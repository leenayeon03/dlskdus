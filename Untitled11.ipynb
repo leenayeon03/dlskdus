{
  "nbformat": 4,
  "nbformat_minor": 0,
  "metadata": {
    "colab": {
      "provenance": []
    },
    "kernelspec": {
      "name": "python3",
      "display_name": "Python 3"
    },
    "language_info": {
      "name": "python"
    }
  },
  "cells": [
    {
      "cell_type": "markdown",
      "source": [
        "넓이를 구하는 프로그램"
      ],
      "metadata": {
        "id": "WBd3ju8QsS4n"
      }
    },
    {
      "cell_type": "code",
      "execution_count": 7,
      "metadata": {
        "colab": {
          "base_uri": "https://localhost:8080/"
        },
        "id": "oWJdmOpzsOJB",
        "outputId": "35b14087-aa6f-4467-92c1-4449fd6602ac"
      },
      "outputs": [
        {
          "output_type": "stream",
          "name": "stdout",
          "text": [
            "넓이를 구하고자 하는 원의 반지름은?4\n",
            "반지름인 4인 원의 넓이 = 3.14 x 4 x 4 = 50.24 \n"
          ]
        }
      ],
      "source": [
        "def get_radius(prompt):\n",
        "  r = int(input(prompt))\n",
        "  return r\n",
        "\n",
        "\n",
        "def get_circle_area(radius):\n",
        "  return 3.14 * radius * radius\n",
        "\n",
        "r = get_radius('넓이를 구하고자 하는 원의 반지름은? ')\n",
        "area = get_circle_area(r)\n",
        "\n",
        "print(f'반지름인 {r}인 원의 넓이 = 3.14 x {r} x {r} = {area} ')"
      ]
    },
    {
      "cell_type": "markdown",
      "source": [
        "화씨, 섭씨 온도 변환"
      ],
      "metadata": {
        "id": "B-3-eRpHt1WS"
      }
    },
    {
      "cell_type": "code",
      "source": [
        "def fahrenheit_to_celsius(F):\n",
        "  C = 5/9*(F-32)\n",
        "  return C\n",
        "\n",
        "def get_real(prompt):\n",
        "  a = int(input(prompt))\n",
        "  return a\n",
        "\n",
        "F_temp = get_real('변환하고자 하는 화씨온도? ')\n",
        "C_temp = fahrenheit_to_celsius(F_temp)\n",
        "\n",
        "print(f'화씨 {F_temp} 도는 섭씨 {C_temp} 도')"
      ],
      "metadata": {
        "colab": {
          "base_uri": "https://localhost:8080/"
        },
        "id": "5yAkhOb6t5ie",
        "outputId": "1b72da3a-a355-453f-b38c-2b7329151ee7"
      },
      "execution_count": 14,
      "outputs": [
        {
          "output_type": "stream",
          "name": "stdout",
          "text": [
            "변환하고자 하는 화씨온도? 100\n",
            "화씨 100 도는 섭씨 37.77777777777778 도\n"
          ]
        }
      ]
    },
    {
      "cell_type": "markdown",
      "source": [
        "초를 입력 받아 시-분-초로 변환"
      ],
      "metadata": {
        "id": "FWFF2XSwv2bO"
      }
    },
    {
      "cell_type": "code",
      "source": [
        "def convert_time(sec):\n",
        "  h = sec //3600\n",
        "  s = sec %3600\n",
        "  m = s//60\n",
        "  s = s%60\n",
        "\n",
        "  print(sec, '초는', h, '시간', m, '분', s, '초이다')\n",
        "\n",
        "def get_integer(prompt):\n",
        "  a = int(input(prompt))\n",
        "  return a\n",
        "\n",
        "sec = get_integer('변환하고자 하는 시간(초)? ')\n",
        "\n",
        "convert_time(sec)"
      ],
      "metadata": {
        "colab": {
          "base_uri": "https://localhost:8080/"
        },
        "id": "y4m5Ck7wu8UY",
        "outputId": "cbfc9176-a165-4635-87f5-20a0bc036f08"
      },
      "execution_count": 16,
      "outputs": [
        {
          "output_type": "stream",
          "name": "stdout",
          "text": [
            "변환하고자 하는 시간(초)? 3700\n",
            "3700 초는 1 시간 1 분 40 초이다\n"
          ]
        }
      ]
    },
    {
      "cell_type": "markdown",
      "source": [
        "n비트를 10진수와 2진수로 표현"
      ],
      "metadata": {
        "id": "plrOEDX2wx4f"
      }
    },
    {
      "cell_type": "code",
      "source": [
        "def set_all_bits(n):\n",
        "  return(1<<n) - 1\n",
        "\n",
        "def get_integer(prompt):\n",
        "  a = int(input(prompt))\n",
        "  return a\n",
        "\n",
        "n = get_integer('설정할 비트 수는? ')\n",
        "bit = set_all_bits(n)\n",
        "print(f'{n}비트를 모두 1로 설정한 수는 {bit} ( {bin(bit)} )이다')"
      ],
      "metadata": {
        "colab": {
          "base_uri": "https://localhost:8080/"
        },
        "id": "mk3ubeftwfB_",
        "outputId": "64e5d644-f5a3-42f0-ae46-a4552ce78e1b"
      },
      "execution_count": 18,
      "outputs": [
        {
          "output_type": "stream",
          "name": "stdout",
          "text": [
            "설정할 비트 수는? 8\n",
            "8비트를 모두 1로 설정한 수는 255 ( 0b11111111 )이다\n"
          ]
        }
      ]
    },
    {
      "cell_type": "markdown",
      "source": [
        "동전 교환"
      ],
      "metadata": {
        "id": "h5mw4rBHxdvx"
      }
    },
    {
      "cell_type": "code",
      "source": [
        "def exchange(money):\n",
        "  print(f'잔돈 : {money}원')\n",
        "  n500 = money // 500\n",
        "  money %=500\n",
        "\n",
        "  n100 = money //100\n",
        "  money %= 100\n",
        "\n",
        "  n50 = money // 50\n",
        "  money %= 50\n",
        "\n",
        "  n10 = money // 10\n",
        "\n",
        "  print(f'500원의 동전 개수 : {n500}, 100원의 동전 개수 : {n100}, 50원의 동전 개수 : {n50}, 10원의 동전 개수 : {n10}')\n",
        "\n",
        "money = int(input('동전으로 교환하고자 하는 금액은? '))\n",
        "exchange(money)"
      ],
      "metadata": {
        "colab": {
          "base_uri": "https://localhost:8080/"
        },
        "id": "NlwQtitHxXtx",
        "outputId": "47485da8-6959-421f-c686-ccae235d6509"
      },
      "execution_count": 19,
      "outputs": [
        {
          "output_type": "stream",
          "name": "stdout",
          "text": [
            "동전으로 교환하고자 하는 금액은? 3520\n",
            "잔돈 : 3520원\n",
            "500원의 동전 개수 : 7, 100원의 동전 개수 : 0, 50원의 동전 개수 : 0, 10원의 동전 개수 : 2\n"
          ]
        }
      ]
    },
    {
      "cell_type": "code",
      "source": [
        "환율"
      ],
      "metadata": {
        "id": "TRzbpWAFy5Uc"
      },
      "execution_count": null,
      "outputs": []
    },
    {
      "cell_type": "code",
      "source": [
        "#전역 변수\n",
        "exchange_rate = 0\n",
        "\n",
        "def set_rate(won):\n",
        "  global exchange_rate\n",
        "  exchange_rate = won\n",
        "\n",
        "def get_rate():\n",
        "  return exchange_rate\n",
        "\n",
        "def to_dollar(won):\n",
        "  return won / exchange_rate\n",
        "\n",
        "def to_won(dollar):\n",
        "  return dollar * exchange_rate\n",
        "\n",
        "def main():\n",
        "  print('### 환율 변환 모듈 테스트 ###')\n",
        "  set_rate(1010)\n",
        "  print('오늘의 환율', get_rate())\n",
        "  print('2020원 = ', to_dollar(2020),'달러')\n",
        "  print('2달러 = ', to_won(2),'원')\n",
        "\n",
        "if __name__ == \"__main__\":\n",
        "  main()"
      ],
      "metadata": {
        "colab": {
          "base_uri": "https://localhost:8080/"
        },
        "id": "AkTJ1erdyxWp",
        "outputId": "82f2e24b-32d2-45c3-c661-3488e9571595"
      },
      "execution_count": 20,
      "outputs": [
        {
          "output_type": "stream",
          "name": "stdout",
          "text": [
            "### 환율 변환 모듈 테스트 ###\n",
            "오늘의 환율 1010\n",
            "2020원 =  2.0 달러\n",
            "2달러 =  2020 원\n"
          ]
        }
      ]
    },
    {
      "cell_type": "markdown",
      "source": [
        "사용자 입력 환율"
      ],
      "metadata": {
        "id": "dX88e5Yn0U5_"
      }
    },
    {
      "cell_type": "code",
      "source": [
        "exchange_rate = 0\n",
        "\n",
        "def set_rate(won):\n",
        "  global exchange_rate\n",
        "  exchange_rate = won\n",
        "\n",
        "def get_rate():\n",
        "  return exchange_rate\n",
        "\n",
        "def to_dollar(won):\n",
        "  return won / exchange_rate\n",
        "\n",
        "def to_won(dollar):\n",
        "  return dollar * exchange_rate\n",
        "\n",
        "\n",
        "import exchange_currency as ec\n",
        "\n",
        "def main():\n",
        "    rate = int(input(\"$1에 대한 오늘의 환율은? \"))\n",
        "    ec.set_rate(rate)\n",
        "\n",
        "    dollar = int(input(\"원화를 변환할 달러화 액수는? \"))\n",
        "    print(f\"{dollar} 달러는 {ec.to_won(dollar)} 원입니다\")\n",
        "\n",
        "    won = int(input(\"달러화로 변환할 원화 액수는? \"))\n",
        "    print(f\"{won} 원은 {ec.to_dollar(won)} 달러입니다\")\n",
        "\n",
        "if __name__ == \"__main__\":\n",
        "    main()"
      ],
      "metadata": {
        "colab": {
          "base_uri": "https://localhost:8080/",
          "height": 378
        },
        "id": "a6OnEpfh0XSY",
        "outputId": "46061fa7-c4f8-4e15-c7d1-b908310ef29c"
      },
      "execution_count": 22,
      "outputs": [
        {
          "output_type": "error",
          "ename": "ModuleNotFoundError",
          "evalue": "No module named 'exchange_currency'",
          "traceback": [
            "\u001b[0;31m---------------------------------------------------------------------------\u001b[0m",
            "\u001b[0;31mModuleNotFoundError\u001b[0m                       Traceback (most recent call last)",
            "\u001b[0;32m<ipython-input-22-0044ef85e671>\u001b[0m in \u001b[0;36m<cell line: 0>\u001b[0;34m()\u001b[0m\n\u001b[1;32m     15\u001b[0m \u001b[0;34m\u001b[0m\u001b[0m\n\u001b[1;32m     16\u001b[0m \u001b[0;34m\u001b[0m\u001b[0m\n\u001b[0;32m---> 17\u001b[0;31m \u001b[0;32mimport\u001b[0m \u001b[0mexchange_currency\u001b[0m \u001b[0;32mas\u001b[0m \u001b[0mec\u001b[0m\u001b[0;34m\u001b[0m\u001b[0;34m\u001b[0m\u001b[0m\n\u001b[0m\u001b[1;32m     18\u001b[0m \u001b[0;34m\u001b[0m\u001b[0m\n\u001b[1;32m     19\u001b[0m \u001b[0;32mdef\u001b[0m \u001b[0mmain\u001b[0m\u001b[0;34m(\u001b[0m\u001b[0;34m)\u001b[0m\u001b[0;34m:\u001b[0m\u001b[0;34m\u001b[0m\u001b[0;34m\u001b[0m\u001b[0m\n",
            "\u001b[0;31mModuleNotFoundError\u001b[0m: No module named 'exchange_currency'",
            "",
            "\u001b[0;31m---------------------------------------------------------------------------\u001b[0;32m\nNOTE: If your import is failing due to a missing package, you can\nmanually install dependencies using either !pip or !apt.\n\nTo view examples of installing some common dependencies, click the\n\"Open Examples\" button below.\n\u001b[0;31m---------------------------------------------------------------------------\u001b[0m\n"
          ],
          "errorDetails": {
            "actions": [
              {
                "action": "open_url",
                "actionText": "Open Examples",
                "url": "/notebooks/snippets/importing_libraries.ipynb"
              }
            ]
          }
        }
      ]
    },
    {
      "cell_type": "markdown",
      "source": [
        "할인 전 가격을 계산"
      ],
      "metadata": {
        "id": "8khmdZQp1cI0"
      }
    },
    {
      "cell_type": "code",
      "source": [
        "def get_fixed_price(rate, discount_price):\n",
        "    price = discount_price/(1-rate/100)\n",
        "    return (price)\n",
        "\n",
        "\n",
        "discount = int(input('할인율은?'))\n",
        "A = int(input('A상품의 할인된 가격은?'))\n",
        "B = int(input('B상품의 할인된 가격은?'))\n",
        "\n",
        "A_price = int(get_fixed_price(discount, A))\n",
        "B_price = int(get_fixed_price(discount, B))\n",
        "\n",
        "print('A상품의 정가는',A_price,'원')\n",
        "print('B상품의 정가는',B_price,'원')"
      ],
      "metadata": {
        "colab": {
          "base_uri": "https://localhost:8080/"
        },
        "id": "3ZFP58Mz1geD",
        "outputId": "c1b11523-25df-4618-d4af-9dcbec2d05c1"
      },
      "execution_count": 1,
      "outputs": [
        {
          "output_type": "stream",
          "name": "stdout",
          "text": [
            "할인율은?20\n",
            "A상품의 할인된 가격은?8000\n",
            "B상품의 할인된 가격은?20000\n",
            "A상품의 정가는 10000 원\n",
            "B상품의 정가는 25000 원\n"
          ]
        }
      ]
    },
    {
      "cell_type": "markdown",
      "source": [
        "이름, 학년 입력 출력"
      ],
      "metadata": {
        "id": "U9rFAH8o2a8A"
      }
    },
    {
      "cell_type": "code",
      "source": [
        "def introduce(name, grade):\n",
        "  first_name = name[1:]\n",
        "  return f'{first_name}은 내년에 {grade + 1}학년입니다'\n",
        "\n",
        "a = input('이름? ')\n",
        "b = int(input('학년? '))\n",
        "\n",
        "c = introduce(a,b)\n",
        "\n",
        "print(c)"
      ],
      "metadata": {
        "id": "ZwWmgZw22gmO"
      },
      "execution_count": null,
      "outputs": []
    },
    {
      "cell_type": "markdown",
      "source": [
        "반복"
      ],
      "metadata": {
        "id": "x2bttuKD24Fp"
      }
    },
    {
      "cell_type": "code",
      "source": [
        "def rep_char(c,n):\n",
        "  print(c*n)\n",
        "\n",
        "rep_char('-',10)\n",
        "rep_char('*',5)"
      ],
      "metadata": {
        "colab": {
          "base_uri": "https://localhost:8080/"
        },
        "id": "2tEYgJAA26bp",
        "outputId": "a5d8b812-8787-4162-ddf8-fed5e5fc265c"
      },
      "execution_count": 2,
      "outputs": [
        {
          "output_type": "stream",
          "name": "stdout",
          "text": [
            "----------\n",
            "*****\n"
          ]
        }
      ]
    },
    {
      "cell_type": "code",
      "source": [
        "def rep_char(c,n):\n",
        "  print(c*n)\n",
        "\n",
        "def draw_lin_string(a):\n",
        "  stri = len(a)\n",
        "  rep_char('-', stri*2+4)\n",
        "  print(f'   {a}   ')\n",
        "  rep_char('-', stri*2+4)\n",
        "\n",
        "draw_lin_string('안녕하세요')\n",
        "draw_lin_string('안녕')"
      ],
      "metadata": {
        "colab": {
          "base_uri": "https://localhost:8080/"
        },
        "id": "IrWmfY1P2QAH",
        "outputId": "4bfb8bc9-e3e8-4550-ff93-2172bf1a4916"
      },
      "execution_count": 3,
      "outputs": [
        {
          "output_type": "stream",
          "name": "stdout",
          "text": [
            "--------------\n",
            "   안녕하세요   \n",
            "--------------\n",
            "--------\n",
            "   안녕   \n",
            "--------\n"
          ]
        }
      ]
    },
    {
      "cell_type": "markdown",
      "source": [
        "환영메시지"
      ],
      "metadata": {
        "id": "oUq2EVLH3gSt"
      }
    },
    {
      "cell_type": "code",
      "source": [
        "def rep_char(c,n):\n",
        "  print(c*n)\n",
        "\n",
        "def draw_lin_string(msg1, msg2):\n",
        "  msg1 = 'Hello' + ' ' + msg1\n",
        "  nstr = len(msg1) if (len(msg1)>len(msg2)) else len(msg2)\n",
        "\n",
        "  print(f'Input his/her name : {msg1}')\n",
        "\n",
        "  rep_char('-',nstr)\n",
        "  print(msg1)\n",
        "  print(msg2)\n",
        "  rep_char('-',nstr)\n",
        "\n",
        "msg1 = input('Input his/her name: ')\n",
        "msg2 = 'Welcome to Seoul'\n",
        "\n",
        "draw_lin_string(msg1, msg2)"
      ],
      "metadata": {
        "colab": {
          "base_uri": "https://localhost:8080/"
        },
        "id": "qqjgW-vN3d1m",
        "outputId": "5dacac9f-1ea9-4f1e-b1e4-39be9e932c96"
      },
      "execution_count": 6,
      "outputs": [
        {
          "output_type": "stream",
          "name": "stdout",
          "text": [
            "Input his/her name: steve yoo\n",
            "Input his/her name : Hello steve yoo\n",
            "----------------\n",
            "Hello steve yoo\n",
            "Welcome to Seoul\n",
            "----------------\n"
          ]
        }
      ]
    },
    {
      "cell_type": "markdown",
      "source": [
        "윤년"
      ],
      "metadata": {
        "id": "m7R5bgf64WeO"
      }
    },
    {
      "cell_type": "code",
      "source": [
        "year = int(input('연도를 입력해주세요'))\n",
        "\n",
        "print(f'윤년 여부를 확인할 연도는? {year}')\n",
        "\n",
        "if year % 4 == 0 and year % 100 !=0:\n",
        "  print(f'{year}년은 윤년입니다')\n",
        "elif year % 400 == 0:\n",
        "  print(f'{year}년은 윤년입니다')\n",
        "else:\n",
        "  print(f'{year}년은 평년입니다')\n",
        "\n",
        "\n",
        "def years(year):\n",
        "  if year % 4 == 0 and year % 100 != 0:\n",
        "    return True\n",
        "  elif year % 400 == 0:\n",
        "    return True\n",
        "  else:\n",
        "    return False\n",
        "\n",
        "if years(year):\n",
        "  print('윤년입니다')\n",
        "else:\n",
        "  print('평년입니다')"
      ],
      "metadata": {
        "id": "OR21yDJ63bSX"
      },
      "execution_count": null,
      "outputs": []
    },
    {
      "cell_type": "markdown",
      "source": [
        "연도와 월, 끝 날 계산"
      ],
      "metadata": {
        "id": "CX8FXJAB5J-a"
      }
    },
    {
      "cell_type": "code",
      "source": [
        "year = int(input('알고싶은 년도를 입력해주세요: '))\n",
        "month = int(input('알고싶은 월을 입력해주세요: '))\n",
        "\n",
        "print(f'연도? {year}')\n",
        "print(f'월? {month}')\n",
        "\n",
        "def is_leap_year(year):\n",
        "  if (year % 4 == 0 and year % 100 != 0) or (year % 400 == 0):\n",
        "    return True\n",
        "  else:\n",
        "    return False\n",
        "\n",
        "\n",
        "def month_days(year,month):\n",
        "  if month == 4 or month == 6 or month == 9 or month == 11 :\n",
        "    return 30\n",
        "  elif month == 2:\n",
        "    if is_leap_year(year):\n",
        "      return 29\n",
        "    else:\n",
        "      return 28\n",
        "  else:\n",
        "    return 31\n",
        "\n",
        "ndays = month_days(year, month)\n",
        "print(f'{year}년 {month}월은 {ndays}일까지 있습니다')"
      ],
      "metadata": {
        "colab": {
          "base_uri": "https://localhost:8080/"
        },
        "id": "CJdPsLmR5Osn",
        "outputId": "0ad9c13c-f81d-4820-f373-6a1a6a16837d"
      },
      "execution_count": 19,
      "outputs": [
        {
          "output_type": "stream",
          "name": "stdout",
          "text": [
            "알고싶은 년도를 입력해주세요: 1999\n",
            "알고싶은 월을 입력해주세요: 2\n",
            "연도? 1999\n",
            "월? 2\n",
            "1999년 2월은 28일까지 있습니다\n"
          ]
        }
      ]
    },
    {
      "cell_type": "markdown",
      "source": [
        "성인 여부"
      ],
      "metadata": {
        "id": "HCboPDQg69hD"
      }
    },
    {
      "cell_type": "code",
      "source": [
        "def input_age(prompt):\n",
        "  n = int(input(prompt))\n",
        "  if 0 <= n <= 120:\n",
        "    return n\n",
        "  else:\n",
        "    return -1\n",
        "\n",
        "def is_adult(age):\n",
        "  if age >= 19:\n",
        "    return True\n",
        "  else:\n",
        "    return False\n",
        "\n",
        "\n",
        "age = input_age('나이? ')\n",
        "\n",
        "if age >= 0 :\n",
        "  if is_adult(age):\n",
        "    print('당신은 성인입니다')\n",
        "  else:\n",
        "    print('당신은 성인이 아닙니다')\n",
        "else:\n",
        "  print('오류 : 유효하지 않은 나이가 입력되어 판별할 수 없습니다')"
      ],
      "metadata": {
        "colab": {
          "base_uri": "https://localhost:8080/"
        },
        "id": "B0jEJncx6zmW",
        "outputId": "097a9e70-eb84-4020-c2ee-bc2ddcb480e5"
      },
      "execution_count": 23,
      "outputs": [
        {
          "output_type": "stream",
          "name": "stdout",
          "text": [
            "나이? 18\n",
            "당신은 성인이 아닙니다\n"
          ]
        }
      ]
    },
    {
      "cell_type": "markdown",
      "source": [
        "문자 종류 판별"
      ],
      "metadata": {
        "id": "KZnLwAuv7nBT"
      }
    },
    {
      "cell_type": "code",
      "source": [
        "def find_type(ch):\n",
        "  if ch == ' ':\n",
        "    return '공백 문자를 입력했습니다'\n",
        "  elif 'a' <= ch <= 'z' or 'A' <= ch <= 'Z':\n",
        "    return '알파벳 문자를 입력했습니다'\n",
        "  elif '0' <= ch <= '9':\n",
        "    return '숫자 문자를 입력했습니다'\n",
        "  else:\n",
        "    return '기타 문자를 입력했습니다'\n",
        "\n",
        "a = input('한 문자 입력 ')\n",
        "\n",
        "atype = find_type(a)\n",
        "print(atype)"
      ],
      "metadata": {
        "colab": {
          "base_uri": "https://localhost:8080/"
        },
        "id": "0utZ12ug7faG",
        "outputId": "268d86f9-94f7-4d64-9d50-f3a65bd45cd8"
      },
      "execution_count": 27,
      "outputs": [
        {
          "output_type": "stream",
          "name": "stdout",
          "text": [
            "한 문자 입력 *\n",
            "기타 문자를 입력했습니다\n"
          ]
        }
      ]
    },
    {
      "cell_type": "markdown",
      "source": [
        "자릿수 읽어주기"
      ],
      "metadata": {
        "id": "zJa-DtFu8MWx"
      }
    },
    {
      "cell_type": "code",
      "source": [
        "#사용자 함수 정의\n",
        "\n",
        "def read_single_digit(n):\n",
        "    if n == 0:\n",
        "        return \"영\"\n",
        "    elif n == 1:\n",
        "        return \"일\"\n",
        "    elif n == 2:\n",
        "        return \"이\"\n",
        "    elif n == 3:\n",
        "        return \"삼\"\n",
        "    elif n == 4:\n",
        "        return \"사\"\n",
        "    elif n == 5:\n",
        "        return \"오\"\n",
        "    elif n == 6:\n",
        "        return \"육\"\n",
        "    elif n == 7:\n",
        "        return \"칠\"\n",
        "    elif n == 8:\n",
        "        return \"팔\"\n",
        "    elif n == 9:\n",
        "        return \"구\"\n",
        "\n",
        "def read_number(num):\n",
        "    n100 = num//100\n",
        "    n10 = (num%100)//10\n",
        "    n1 = num%10\n",
        "    return n100, n10, n1\n",
        "\n",
        "\n",
        "#주 프로그램부\n",
        "num = int(input('세 자리 정수 입력 : '))\n",
        "n100, n10, n1 = read_number(num)\n",
        "print(f'{read_single_digit(n100)} {read_single_digit(n10)} {read_single_digit(n1)}')"
      ],
      "metadata": {
        "colab": {
          "base_uri": "https://localhost:8080/"
        },
        "id": "h_Fl25KA8Gqk",
        "outputId": "1f22be62-1fe7-435b-d0ad-2d6e46b19dd3"
      },
      "execution_count": 28,
      "outputs": [
        {
          "output_type": "stream",
          "name": "stdout",
          "text": [
            "세 자리 정수 입력 : 100\n",
            "일 영 영\n"
          ]
        }
      ]
    },
    {
      "cell_type": "markdown",
      "source": [
        "유효한 나이가 될때까지 다시 입력"
      ],
      "metadata": {
        "id": "jaf9-9tV8fdh"
      }
    },
    {
      "cell_type": "code",
      "source": [
        "def input_age():\n",
        "  while True:\n",
        "    n = int(input('나이: '))\n",
        "    if 0 <= n <= 120:\n",
        "      return n\n",
        "    else:\n",
        "      print('유효하지 않은 나이가 입력되었습니다')\n",
        "\n",
        "def adult(age):\n",
        "  if age >= 19:\n",
        "    return True\n",
        "  else:\n",
        "    return False\n",
        "\n",
        "age = input_age()\n",
        "\n",
        "\n",
        "if adult(age):\n",
        "    print('당신은 성인입니다')\n",
        "else:\n",
        "    print('당신은 성인이 아닙니다')"
      ],
      "metadata": {
        "colab": {
          "base_uri": "https://localhost:8080/"
        },
        "id": "VNuvs8NL8fQz",
        "outputId": "afdd65e1-98e8-48ef-b92a-f0fc27c3ef16"
      },
      "execution_count": 33,
      "outputs": [
        {
          "output_type": "stream",
          "name": "stdout",
          "text": [
            "나이: -10\n",
            "유효하지 않은 나이가 입력되었습니다\n",
            "나이: 101010\n",
            "유효하지 않은 나이가 입력되었습니다\n",
            "나이: -300\n",
            "유효하지 않은 나이가 입력되었습니다\n",
            "나이: 90\n",
            "당신은 성인입니다\n"
          ]
        }
      ]
    },
    {
      "cell_type": "markdown",
      "source": [
        "윤년 여부를 반복적으로 판별"
      ],
      "metadata": {
        "id": "zWq8zxYK9oa9"
      }
    },
    {
      "cell_type": "code",
      "source": [
        "def is_leap_year(year):\n",
        "  if (year % 4 == 0 and year % 100 != 0) | (year % 400 == 0):\n",
        "    return True\n",
        "  else:\n",
        "    return False\n",
        "\n",
        "while True:\n",
        "  year = int(input('윤년 여부를 확인할 연도는? '))\n",
        "  if is_leap_year(year):\n",
        "    print(f'{year}년은 윤년입니다')\n",
        "  else:\n",
        "    print(f'{year}년은 평년입니다')\n",
        "\n",
        "  again = input('다른 연도로 확인하겠습니까?')\n",
        "\n",
        "  if again == 'Y' or again == 'y':\n",
        "    print()\n",
        "  else:\n",
        "    break"
      ],
      "metadata": {
        "colab": {
          "base_uri": "https://localhost:8080/",
          "height": 486
        },
        "id": "hCt4bUac9oOX",
        "outputId": "acf787a3-b4a0-4f89-c264-a935394e827c"
      },
      "execution_count": 36,
      "outputs": [
        {
          "output_type": "stream",
          "name": "stdout",
          "text": [
            "윤년 여부를 확인할 연도는? 2000\n",
            "2000년은 윤년입니다\n",
            "다른 연도로 확인하겠습니까?Y\n",
            "\n",
            "윤년 여부를 확인할 연도는? 1999\n",
            "1999년은 평년입니다\n",
            "다른 연도로 확인하겠습니까?Y\n",
            "\n"
          ]
        },
        {
          "output_type": "error",
          "ename": "KeyboardInterrupt",
          "evalue": "Interrupted by user",
          "traceback": [
            "\u001b[0;31m---------------------------------------------------------------------------\u001b[0m",
            "\u001b[0;31mKeyboardInterrupt\u001b[0m                         Traceback (most recent call last)",
            "\u001b[0;32m<ipython-input-36-5547d9595316>\u001b[0m in \u001b[0;36m<cell line: 0>\u001b[0;34m()\u001b[0m\n\u001b[1;32m      6\u001b[0m \u001b[0;34m\u001b[0m\u001b[0m\n\u001b[1;32m      7\u001b[0m \u001b[0;32mwhile\u001b[0m \u001b[0;32mTrue\u001b[0m\u001b[0;34m:\u001b[0m\u001b[0;34m\u001b[0m\u001b[0;34m\u001b[0m\u001b[0m\n\u001b[0;32m----> 8\u001b[0;31m   \u001b[0myear\u001b[0m \u001b[0;34m=\u001b[0m \u001b[0mint\u001b[0m\u001b[0;34m(\u001b[0m\u001b[0minput\u001b[0m\u001b[0;34m(\u001b[0m\u001b[0;34m'윤년 여부를 확인할 연도는? '\u001b[0m\u001b[0;34m)\u001b[0m\u001b[0;34m)\u001b[0m\u001b[0;34m\u001b[0m\u001b[0;34m\u001b[0m\u001b[0m\n\u001b[0m\u001b[1;32m      9\u001b[0m   \u001b[0;32mif\u001b[0m \u001b[0mis_leap_year\u001b[0m\u001b[0;34m(\u001b[0m\u001b[0myear\u001b[0m\u001b[0;34m)\u001b[0m\u001b[0;34m:\u001b[0m\u001b[0;34m\u001b[0m\u001b[0;34m\u001b[0m\u001b[0m\n\u001b[1;32m     10\u001b[0m     \u001b[0mprint\u001b[0m\u001b[0;34m(\u001b[0m\u001b[0;34mf'{year}년은 윤년입니다'\u001b[0m\u001b[0;34m)\u001b[0m\u001b[0;34m\u001b[0m\u001b[0;34m\u001b[0m\u001b[0m\n",
            "\u001b[0;32m/usr/local/lib/python3.11/dist-packages/ipykernel/kernelbase.py\u001b[0m in \u001b[0;36mraw_input\u001b[0;34m(self, prompt)\u001b[0m\n\u001b[1;32m   1175\u001b[0m                 \u001b[0;34m\"raw_input was called, but this frontend does not support input requests.\"\u001b[0m\u001b[0;34m\u001b[0m\u001b[0;34m\u001b[0m\u001b[0m\n\u001b[1;32m   1176\u001b[0m             )\n\u001b[0;32m-> 1177\u001b[0;31m         return self._input_request(\n\u001b[0m\u001b[1;32m   1178\u001b[0m             \u001b[0mstr\u001b[0m\u001b[0;34m(\u001b[0m\u001b[0mprompt\u001b[0m\u001b[0;34m)\u001b[0m\u001b[0;34m,\u001b[0m\u001b[0;34m\u001b[0m\u001b[0;34m\u001b[0m\u001b[0m\n\u001b[1;32m   1179\u001b[0m             \u001b[0mself\u001b[0m\u001b[0;34m.\u001b[0m\u001b[0m_parent_ident\u001b[0m\u001b[0;34m[\u001b[0m\u001b[0;34m\"shell\"\u001b[0m\u001b[0;34m]\u001b[0m\u001b[0;34m,\u001b[0m\u001b[0;34m\u001b[0m\u001b[0;34m\u001b[0m\u001b[0m\n",
            "\u001b[0;32m/usr/local/lib/python3.11/dist-packages/ipykernel/kernelbase.py\u001b[0m in \u001b[0;36m_input_request\u001b[0;34m(self, prompt, ident, parent, password)\u001b[0m\n\u001b[1;32m   1217\u001b[0m             \u001b[0;32mexcept\u001b[0m \u001b[0mKeyboardInterrupt\u001b[0m\u001b[0;34m:\u001b[0m\u001b[0;34m\u001b[0m\u001b[0;34m\u001b[0m\u001b[0m\n\u001b[1;32m   1218\u001b[0m                 \u001b[0;31m# re-raise KeyboardInterrupt, to truncate traceback\u001b[0m\u001b[0;34m\u001b[0m\u001b[0;34m\u001b[0m\u001b[0m\n\u001b[0;32m-> 1219\u001b[0;31m                 \u001b[0;32mraise\u001b[0m \u001b[0mKeyboardInterrupt\u001b[0m\u001b[0;34m(\u001b[0m\u001b[0;34m\"Interrupted by user\"\u001b[0m\u001b[0;34m)\u001b[0m \u001b[0;32mfrom\u001b[0m \u001b[0;32mNone\u001b[0m\u001b[0;34m\u001b[0m\u001b[0;34m\u001b[0m\u001b[0m\n\u001b[0m\u001b[1;32m   1220\u001b[0m             \u001b[0;32mexcept\u001b[0m \u001b[0mException\u001b[0m\u001b[0;34m:\u001b[0m\u001b[0;34m\u001b[0m\u001b[0;34m\u001b[0m\u001b[0m\n\u001b[1;32m   1221\u001b[0m                 \u001b[0mself\u001b[0m\u001b[0;34m.\u001b[0m\u001b[0mlog\u001b[0m\u001b[0;34m.\u001b[0m\u001b[0mwarning\u001b[0m\u001b[0;34m(\u001b[0m\u001b[0;34m\"Invalid Message:\"\u001b[0m\u001b[0;34m,\u001b[0m \u001b[0mexc_info\u001b[0m\u001b[0;34m=\u001b[0m\u001b[0;32mTrue\u001b[0m\u001b[0;34m)\u001b[0m\u001b[0;34m\u001b[0m\u001b[0;34m\u001b[0m\u001b[0m\n",
            "\u001b[0;31mKeyboardInterrupt\u001b[0m: Interrupted by user"
          ]
        }
      ]
    },
    {
      "cell_type": "markdown",
      "source": [
        "정수 나열"
      ],
      "metadata": {
        "id": "F85ad4Py-iAs"
      }
    },
    {
      "cell_type": "code",
      "source": [
        "a = int(input('높이? '))\n",
        "\n",
        "for i in range(1, a+1):\n",
        "  for j in range(1,i+1):\n",
        "    print(j, end='')\n",
        "  print()"
      ],
      "metadata": {
        "colab": {
          "base_uri": "https://localhost:8080/"
        },
        "id": "R_4WoTcm8Ux-",
        "outputId": "7943980b-8215-4278-d817-0c983941fede"
      },
      "execution_count": 38,
      "outputs": [
        {
          "output_type": "stream",
          "name": "stdout",
          "text": [
            "높이? 5\n",
            "1\n",
            "12\n",
            "123\n",
            "1234\n",
            "12345\n"
          ]
        }
      ]
    },
    {
      "cell_type": "code",
      "source": [
        "a = int(input('높이? '))\n",
        "for i in range(1, a+1):\n",
        "  print(' '* (a-i),'*'*i)"
      ],
      "metadata": {
        "colab": {
          "base_uri": "https://localhost:8080/"
        },
        "id": "MC3myNzA-x7L",
        "outputId": "f20b69c8-fa5a-4d25-eb3a-d6414ccc703c"
      },
      "execution_count": 40,
      "outputs": [
        {
          "output_type": "stream",
          "name": "stdout",
          "text": [
            "높이? 5\n",
            "*\n",
            "**\n",
            "***\n",
            "****\n",
            "*****\n"
          ]
        }
      ]
    },
    {
      "cell_type": "code",
      "source": [
        "a = int(input('높이? '))\n",
        "\n",
        "for i in range(a-1,0,-1):\n",
        "  for j in range(1,i+1):\n",
        "    print(j, end='')\n",
        "  print()"
      ],
      "metadata": {
        "colab": {
          "base_uri": "https://localhost:8080/"
        },
        "id": "y4AcbyJ9--8s",
        "outputId": "adfc5e0d-2d01-4c62-f076-609bfa6a4509"
      },
      "execution_count": 42,
      "outputs": [
        {
          "output_type": "stream",
          "name": "stdout",
          "text": [
            "높이? 5\n",
            "1234\n",
            "123\n",
            "12\n",
            "1\n"
          ]
        }
      ]
    },
    {
      "cell_type": "markdown",
      "source": [
        "구구단"
      ],
      "metadata": {
        "id": "6I_VrzdS_WEK"
      }
    },
    {
      "cell_type": "code",
      "source": [
        "def display_multiplication_table(n):\n",
        "    for i in range(1,10):\n",
        "        for j in range(n, n+4):\n",
        "            print(f' {j} x {i} = {j*i:2d}', end='\\t')\n",
        "        print()\n",
        "    print()\n",
        "\n",
        "display_multiplication_table(2)\n",
        "display_multiplication_table(6)"
      ],
      "metadata": {
        "id": "DgoTtjK3_MDS"
      },
      "execution_count": null,
      "outputs": []
    }
  ]
}